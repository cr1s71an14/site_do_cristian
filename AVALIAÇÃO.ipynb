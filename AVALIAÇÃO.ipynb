{
  "nbformat": 4,
  "nbformat_minor": 0,
  "metadata": {
    "colab": {
      "provenance": [],
      "authorship_tag": "ABX9TyMnanGTOlPgo93iqG25vMfT",
      "include_colab_link": true
    },
    "kernelspec": {
      "name": "python3",
      "display_name": "Python 3"
    },
    "language_info": {
      "name": "python"
    }
  },
  "cells": [
    {
      "cell_type": "markdown",
      "metadata": {
        "id": "view-in-github",
        "colab_type": "text"
      },
      "source": [
        "<a href=\"https://colab.research.google.com/github/cr1s71an14/site_do_cristian/blob/main/AVALIA%C3%87%C3%83O.ipynb\" target=\"_parent\"><img src=\"https://colab.research.google.com/assets/colab-badge.svg\" alt=\"Open In Colab\"/></a>"
      ]
    },
    {
      "cell_type": "markdown",
      "source": [
        "# AVALIAÇÃO\n",
        "\n",
        "# ATIVIDADE 1"
      ],
      "metadata": {
        "id": "mDS3ppRgvDL9"
      }
    },
    {
      "cell_type": "code",
      "source": [
        "nome = input(\"Digite seu nome:\")\n",
        "print(f\"olá, {nome}! qual é sua dúvida, caro estudante?\")\n",
        "resposta = input(\"Escolha um assunto: inglês, Matemática, História, Português? \").strip().lower()\n",
        "if resposta == \"inglês\":\n",
        "  print(\"Tranquilo, vamos falar sobre inglês! Essa língua é muito importante!\")\n",
        "elif resposta == \"matemática\":\n",
        "  print(\"Vamos resolver algumas questões então!\")\n",
        "elif resposta == \"história\":\n",
        "  print(\"Quer saber algo histórico!\")\n",
        "elif resposta == \"português\":\n",
        "  print(\"Tranquilo, vamos falar sobre Português! Você sabia que é considerado uma língua muito rica e complexa?\")\n",
        "else:\n",
        "  print(\"Vou ficar devendo, estudante! Não entendi sua pergunta!\")"
      ],
      "metadata": {
        "colab": {
          "base_uri": "https://localhost:8080/"
        },
        "id": "L2K3zJmWvmQY",
        "outputId": "1867a9ba-22ea-40c2-a3d7-5f245d107243"
      },
      "execution_count": 4,
      "outputs": [
        {
          "output_type": "stream",
          "name": "stdout",
          "text": [
            "Digite seu nome:cristian\n",
            "olá, cristian! qual é sua dúvida, caro estudante?\n",
            "Escolha um assunto: inglês, Matemática, História, Português? inglês\n",
            "Tranquilo, vamos falar sobre inglês! Essa língua é muito importante!\n"
          ]
        }
      ]
    }
  ]
}